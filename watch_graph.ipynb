{
 "cells": [
  {
   "cell_type": "code",
   "execution_count": null,
   "metadata": {},
   "outputs": [],
   "source": [
    "import matplotlib.pyplot as plt\n",
    "%matplotlib inline\n",
    "import optuna\n",
    "import pandas as pd\n",
    "import numpy as np\n",
    "import plotly\n",
    "from graphviz import Digraph\n",
    "\n",
    "#pd.set_option('display.max_columns', 200)\n",
    "#pd.set_option('display.max_rows', 200)"
   ]
  },
  {
   "cell_type": "code",
   "execution_count": null,
   "metadata": {},
   "outputs": [],
   "source": [
    "path   = 'optimized_graph'\n",
    "epochs = 1"
   ]
  },
  {
   "cell_type": "markdown",
   "metadata": {},
   "source": [
    "# Cteate study object"
   ]
  },
  {
   "cell_type": "code",
   "execution_count": null,
   "metadata": {},
   "outputs": [],
   "source": [
    "study = optuna.create_study(storage='sqlite:///' + path + '/optuna.db',\n",
    "                            study_name='experiment01',\n",
    "                            #pruner=pruner,\n",
    "                            direction=\"minimize\",\n",
    "                            load_if_exists=True)"
   ]
  },
  {
   "cell_type": "markdown",
   "metadata": {},
   "source": [
    "# Traial"
   ]
  },
  {
   "cell_type": "code",
   "execution_count": null,
   "metadata": {},
   "outputs": [],
   "source": [
    "df = study.trials_dataframe()\n",
    "params_df = df.loc[:, df.columns.str.contains(\"params\")].columns.tolist()\n",
    "df = df[[\"number\", \"state\", \"value\", \"datetime_start\", \"datetime_complete\", \"user_attrs_seed\"]+params_df]"
   ]
  },
  {
   "cell_type": "code",
   "execution_count": null,
   "metadata": {},
   "outputs": [],
   "source": [
    "df"
   ]
  },
  {
   "cell_type": "code",
   "execution_count": null,
   "metadata": {},
   "outputs": [],
   "source": [
    "font_size = 14\n",
    "fig = plt.figure()\n",
    "ax  = fig.add_subplot(111)\n",
    "df[df[\"state\"] == 'COMPLETE'].value.plot(ax=ax, grid=True, figsize=(8,5))\n",
    "ax.set_xlabel('Trial', size=font_size)\n",
    "ax.set_ylabel('Error rate', size=font_size)"
   ]
  },
  {
   "cell_type": "code",
   "execution_count": null,
   "metadata": {},
   "outputs": [],
   "source": [
    "complete = df[df[\"state\"] == 'COMPLETE']\n",
    "no_nodes = len(complete.loc[:, complete.columns.str.contains(\"model\")].columns)\n",
    "params   = complete[params_df]\n",
    "model    = params.loc[:,params.columns.str.contains(\"model\")]\n",
    "\n",
    "model_acc = []\n",
    "for id_ in complete[\"number\"]:\n",
    "    model_acc += [[pd.read_csv(f\"./{path}/{id_:04d}/log/net{i}/epoch_log.csv\", index_col=\"Unnamed: 0\").at[epochs, \"test_accuracy\"] for i in range(no_nodes)]]\n",
    "    \n",
    "model_acc  = pd.DataFrame(model_acc, index=model.index, columns=[f\"model_{i}_acc\" for i in range(no_nodes)])\n",
    "sorted_df  = complete.sort_values(by=\"value\")\n",
    "sorted_acc = sorted_df[\"value\"]\n",
    "sorted_df  = pd.concat([sorted_acc, model.loc[sorted_acc.index], model_acc.loc[sorted_acc.index]], axis=1).rename(columns={0:\"max_accuracy\"})\n",
    "sorted_df"
   ]
  },
  {
   "cell_type": "markdown",
   "metadata": {},
   "source": [
    "# Graph"
   ]
  },
  {
   "cell_type": "code",
   "execution_count": null,
   "metadata": {},
   "outputs": [],
   "source": [
    "top = 0"
   ]
  },
  {
   "cell_type": "markdown",
   "metadata": {},
   "source": [
    "## Loss"
   ]
  },
  {
   "cell_type": "code",
   "execution_count": null,
   "metadata": {},
   "outputs": [],
   "source": [
    "loss = params.loc[:, params.columns.str.contains(\"loss\")].loc[sorted_df.index[top]]\n",
    "model_name = params.loc[:, params.columns.str.contains(\"model\")].loc[sorted_df.index[top]]\n",
    "wh = int(np.sqrt(len(loss)))\n",
    "df_loss = pd.DataFrame(loss.values.reshape((wh,wh)), columns=model_name, index=model_name)\n",
    "df_loss"
   ]
  },
  {
   "cell_type": "markdown",
   "metadata": {},
   "source": [
    "## Gate"
   ]
  },
  {
   "cell_type": "code",
   "execution_count": null,
   "metadata": {},
   "outputs": [],
   "source": [
    "gate = params.loc[:, params.columns.str.contains(\"gate\")].loc[sorted_df.index[top]]\n",
    "df_gate = pd.DataFrame(df_loss.copy()).applymap(lambda x :None)\n",
    "\n",
    "for gate_name, val in gate.to_dict().items():\n",
    "    if len(gate_name.split(\"_\")) == 4:\n",
    "        params, source, target, _ = gate_name.split(\"_\")\n",
    "        df_gate.iloc[int(source), int(target)] = val\n",
    "df_gate"
   ]
  },
  {
   "cell_type": "markdown",
   "metadata": {},
   "source": [
    "## structure"
   ]
  },
  {
   "cell_type": "code",
   "execution_count": null,
   "metadata": {},
   "outputs": [],
   "source": [
    "edge_color = {\n",
    "    \"ThroughGate\": \"3\", \n",
    "    \"LinearGate\": \"1\",\n",
    "    \"CorrectGate\": \"2\",\n",
    "}\n",
    "\n",
    "G = Digraph(format=\"pdf\", engine=\"dot\")\n",
    "\n",
    "# accuracy\n",
    "acc = model_acc.loc[sorted_acc.index].iloc[top]\n",
    "\n",
    "# node\n",
    "for target in range(len(df_loss)):    \n",
    "    G.node(f\"{target+1}. \"+df_loss.index[target]+f\" ({np.round(acc[target], decimals=2)}%)\",color='gray90', fillcolor='gray90', style='filled')\n",
    "G.node(f\"{1}. \"+df_loss.index[0]+f\" ({np.round(acc[0], decimals=2)}%)\", color='pink', fillcolor='pink', style='radial')\n",
    "\n",
    "# edge\n",
    "for target in range(len(df_loss)):\n",
    "    for source in range(len(df_loss)):\n",
    "        gate = df_gate.iloc[target,source]\n",
    "        if gate != \"CutoffGate\":\n",
    "            if source == target:  # label -> model\n",
    "                label = df_gate.iloc[target, source].replace(\"Gate\",\"\") # ThroughGate -> Through\n",
    "                if gate == \"CorrectGate\":\n",
    "                    gate  = \"ThroughGate\"\n",
    "                    label = \"Through\"\n",
    "                G.edge(f\"{target}\",\n",
    "                       f\"{target+1}. \"+df_loss.index[target]+f\" ({np.round(acc[target], decimals=2)}%)\",\n",
    "                       label=label, fontsize=\"13\", fontcolor=edge_color[gate],\n",
    "                       color=edge_color[gate], colorscheme=\"dark28\")\n",
    "                G.node(f\"{target}\", label=\"Label\", color='white', style='filled')\n",
    "            else:\n",
    "                gate_name = df_gate.iloc[target, source].replace(\"Gate\",\"\") # ThroughGate -> Through\n",
    "                loss_name = df_loss.iloc[target, source].replace(\"Loss\",\"\") \n",
    "                \n",
    "                if   loss_name == \"KL_P\":\n",
    "                    loss_name = \"Prob(+)\" #\"SoftTarget(+)\"\n",
    "                elif loss_name == \"KL_N\":\n",
    "                    loss_name = \"Prob(-)\" #\"SoftTarget(-)\"\n",
    "                    \n",
    "                elif loss_name == \"Att_P\":\n",
    "                    loss_name = \"Attention(+)\"\n",
    "                elif loss_name == \"Att_N\":\n",
    "                    loss_name = \"Attention(-)\"\n",
    "                \n",
    "                elif loss_name == \"KL_Att_P_P\":\n",
    "                    loss_name = \"Prob(+), Attention(+)\" #\"SoftTarget(+), Attention(+)\"\n",
    "                elif loss_name == \"KL_Att_N_N\":\n",
    "                    loss_name = \"Prob(+), Attention(+)\" #\"SoftTarget(-), Attention(-)\"\n",
    "                \n",
    "                label = loss_name+\"\\n(\"+gate_name+\")\"\n",
    "                G.edge(f\"{source+1}. \"+df_loss.columns[source]+f\" ({np.round(acc[source], decimals=2)}%)\",\n",
    "                       f\"{target+1}. \"+df_loss.index[target]+f\" ({np.round(acc[target], decimals=2)}%)\",\n",
    "                       label=label, fontsize=\"13\", fontcolor=edge_color[gate],\n",
    "                       color=edge_color[gate], colorscheme=\"dark28\")\n",
    "\n",
    "for target in range(len(df_loss)):\n",
    "    if (df_gate.iloc[target] == \"CutoffGate\").all():\n",
    "        G.node(f\"{target+1}. \"+df_loss.columns[target]+f\" ({np.round(acc[target], decimals=2)}%)\",\n",
    "               color='lightblue',fillcolor='lightblue', style='radial')\n",
    "\n",
    "G.render(filename=f\"{top}\", directory=\"./topn_graph\", cleanup=True, format=\"png\")   #format=\"pdf\" png\n",
    "G"
   ]
  },
  {
   "cell_type": "code",
   "execution_count": null,
   "metadata": {},
   "outputs": [],
   "source": [
    "print(\"Top-1 graph :\", str(sorted_df.index[top]).zfill(4))"
   ]
  },
  {
   "cell_type": "code",
   "execution_count": null,
   "metadata": {},
   "outputs": [],
   "source": []
  }
 ],
 "metadata": {
  "kernelspec": {
   "display_name": "Python 3 (ipykernel)",
   "language": "python",
   "name": "python3"
  },
  "language_info": {
   "codemirror_mode": {
    "name": "ipython",
    "version": 3
   },
   "file_extension": ".py",
   "mimetype": "text/x-python",
   "name": "python",
   "nbconvert_exporter": "python",
   "pygments_lexer": "ipython3",
   "version": "3.8.10"
  }
 },
 "nbformat": 4,
 "nbformat_minor": 4
}
